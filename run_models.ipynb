{
 "cells": [
  {
   "cell_type": "markdown",
   "metadata": {},
   "source": [
    "## Run baseline models"
   ]
  },
  {
   "cell_type": "code",
   "execution_count": 1,
   "metadata": {},
   "outputs": [
    {
     "name": "stdout",
     "output_type": "stream",
     "text": [
      "Using TensorFlow backend.\n",
      "Cox:\n",
      "precision:  [0.13333333 0.61666667 0.53096447 0.51121495 0.50506912]\n",
      "recall:  [0.00359066 0.79712747 0.93895871 0.98204668 0.98384201]\n",
      "F1:  [0.00699301 0.6953798  0.67833982 0.6724032  0.66747868]\n",
      "accuracy:  [0.49012567 0.6508079  0.55475763 0.52154399 0.50987433]\n",
      "\n",
      "\n",
      "\n",
      "SVM:\n",
      "precision:  [0.75       0.7260274  0.74736842 0.64634146 0.81564246]\n",
      "recall:  [0.20503597 0.19064748 0.25539568 0.19064748 0.52517986]\n",
      "F1:  [0.3220339  0.3019943  0.38069705 0.29444444 0.63894967]\n",
      "accuracy:  [0.56834532 0.55935252 0.58453237 0.54316547 0.70323741]\n"
     ]
    }
   ],
   "source": [
    "!python2 models/safe_baselines.py \"twitter\""
   ]
  },
  {
   "cell_type": "code",
   "execution_count": 2,
   "metadata": {},
   "outputs": [
    {
     "name": "stdout",
     "output_type": "stream",
     "text": [
      "Using TensorFlow backend.\n",
      "Cox:\n",
      "precision:  [0.         0.80740741 0.71584699 0.63519313 0.62040816]\n",
      "recall:  [0.         0.62643678 0.75287356 0.85057471 0.87356322]\n",
      "F1:  [0.         0.70550162 0.73389356 0.72727273 0.72553699]\n",
      "accuracy:  [0.50708215 0.74220963 0.73087819 0.68555241 0.67422096]\n",
      "\n",
      "\n",
      "\n",
      "SVM:\n",
      "precision:  [0.         0.66       0.69       0.71287129 0.67924528]\n",
      "recall:  [0.         0.75862069 0.79310345 0.82758621 0.82758621]\n",
      "F1:  [0.         0.70588235 0.73796791 0.76595745 0.74611399]\n",
      "accuracy:  [0.50285714 0.68571429 0.72       0.74857143 0.72      ]\n"
     ]
    }
   ],
   "source": [
    "!python2 models/safe_baselines.py \"wiki\""
   ]
  },
  {
   "cell_type": "markdown",
   "metadata": {},
   "source": [
    "## Run SAFE model"
   ]
  },
  {
   "cell_type": "code",
   "execution_count": 3,
   "metadata": {},
   "outputs": [
    {
     "name": "stdout",
     "output_type": "stream",
     "text": [
      "Using TensorFlow backend.\n",
      "2020-05-05 16:19:37.119044: I tensorflow/core/platform/cpu_feature_guard.cc:137] Your CPU supports instructions that this TensorFlow binary was not compiled to use: SSE4.1 SSE4.2 AVX AVX2 FMA\n",
      "epoch:  0 nan\n",
      "epoch:  1 nan\n",
      "epoch:  2 nan\n",
      "epoch:  3 nan\n",
      "****  5 0.4859813084112149 0.5000000000000001\n",
      "epoch:  4 nan\n",
      "epoch:  5 nan\n",
      "epoch:  6 nan\n",
      "epoch:  7 nan\n",
      "epoch:  8 nan\n",
      "epoch:  9 nan\n",
      "epoch:  10 nan\n",
      "epoch:  11 nan\n",
      "epoch:  12 nan\n",
      "epoch:  13 nan\n",
      "epoch:  14 nan\n",
      "epoch:  15 nan\n",
      "epoch:  16 nan\n",
      "epoch:  17 nan\n",
      "epoch:  18 nan\n",
      "epoch:  19 nan\n",
      "epoch:  20 nan\n",
      "epoch:  21 nan\n",
      "epoch:  22 nan\n",
      "epoch:  23 nan\n",
      "epoch:  24 nan\n",
      "\n",
      "\n",
      "\n",
      "precision:  [0.49545455 0.49545455 0.49545455 0.49545455 0.49545455]\n",
      "recall:  [1. 1. 1. 1. 1.]\n",
      "F1:  [0.66261398 0.66261398 0.66261398 0.66261398 0.66261398]\n",
      "accuracy:  [0.49545455 0.49545455 0.49545455 0.49545455 0.49545455]\n",
      "------------------------------------------------------\n",
      "12 :  11.0 135\n",
      "13 :  12.0 20\n",
      "14 :  13.0 10\n",
      "15 :  14.0 15\n",
      "16 :  15.0 15\n",
      "17 :  16.0 125\n",
      "18 :  17.0 95\n",
      "19 :  18.0 115\n",
      "20 :  19.0 15\n"
     ]
    }
   ],
   "source": [
    "!python2 models/safe.py \"twitter\""
   ]
  },
  {
   "cell_type": "code",
   "execution_count": 4,
   "metadata": {},
   "outputs": [
    {
     "name": "stdout",
     "output_type": "stream",
     "text": [
      "Using TensorFlow backend.\n",
      "2020-05-05 16:24:42.163617: I tensorflow/core/platform/cpu_feature_guard.cc:137] Your CPU supports instructions that this TensorFlow binary was not compiled to use: SSE4.1 SSE4.2 AVX AVX2 FMA\n",
      "epoch:  0 1.1616672\n",
      "epoch:  1 0.77643746\n",
      "epoch:  2 0.71893543\n",
      "epoch:  3 0.7038431\n",
      "****  5 0.6957575757575757 0.5000000000000001\n",
      "epoch:  4 0.70016825\n",
      "epoch:  5 0.6991446\n",
      "epoch:  6 0.69812906\n",
      "epoch:  7 0.6965987\n",
      "epoch:  8 0.6947358\n",
      "****  10 0.7036363636363637 0.5000000000000001\n",
      "****  10 0.7151515151515151 0.7000000000000001\n",
      "****  10 0.7175757575757575 0.68\n",
      "****  10 0.7272727272727273 0.5800000000000001\n",
      "epoch:  9 0.69286406\n",
      "epoch:  10 0.6912347\n",
      "epoch:  11 0.68997353\n",
      "epoch:  12 0.6890894\n",
      "epoch:  13 0.6884928\n",
      "****  15 0.7296969696969697 0.7000000000000001\n",
      "****  15 0.7357575757575757 0.7200000000000001\n",
      "epoch:  14 0.68791044\n",
      "epoch:  15 0.68569314\n",
      "epoch:  16 0.67439175\n",
      "epoch:  17 0.66494715\n",
      "epoch:  18 0.6638607\n",
      "****  20 0.7393939393939394 0.8200000000000002\n",
      "****  20 0.7424242424242424 0.8000000000000002\n",
      "epoch:  19 0.66581106\n",
      "epoch:  20 0.6676234\n",
      "epoch:  21 0.6681023\n",
      "epoch:  22 0.66885835\n",
      "epoch:  23 0.6692187\n",
      "epoch:  24 0.6686232\n",
      "epoch:  25 0.6670951\n",
      "epoch:  26 0.66487104\n",
      "epoch:  27 0.6625822\n",
      "epoch:  28 0.6604926\n",
      "epoch:  29 0.6584547\n",
      "epoch:  30 0.6562087\n",
      "epoch:  31 0.65356946\n",
      "epoch:  32 0.6502919\n",
      "epoch:  33 0.6460386\n",
      "epoch:  34 0.6405997\n",
      "epoch:  35 0.6344805\n",
      "epoch:  36 0.6288426\n",
      "epoch:  37 0.62404203\n",
      "epoch:  38 0.6194879\n",
      "epoch:  39 0.61483026\n",
      "\n",
      "\n",
      "\n",
      "precision:  [0.71359223 0.71359223 0.71359223 0.71497585 0.71153846]\n",
      "recall:  [0.875      0.875      0.875      0.88095238 0.88095238]\n",
      "F1:  [0.78609626 0.78609626 0.78609626 0.78933333 0.78723404]\n",
      "accuracy:  [0.76470588 0.76470588 0.76470588 0.76764706 0.76470588]\n",
      "------------------------------------------------------\n",
      "12 :  11.0 22\n",
      "13 :  12.0 21\n",
      "14 :  13.0 16\n",
      "15 :  14.0 21\n",
      "16 :  15.0 15\n",
      "17 :  16.0 20\n",
      "18 :  16.0 10\n",
      "19 :  17.727272727272727 11\n",
      "20 :  19.0 13\n"
     ]
    }
   ],
   "source": [
    "!python2 models/safe.py \"wiki\""
   ]
  }
 ],
 "metadata": {
  "kernelspec": {
   "display_name": "Python 2",
   "language": "python",
   "name": "python2"
  },
  "language_info": {
   "codemirror_mode": {
    "name": "ipython",
    "version": 2
   },
   "file_extension": ".py",
   "mimetype": "text/x-python",
   "name": "python",
   "nbconvert_exporter": "python",
   "pygments_lexer": "ipython2",
   "version": "2.7.18"
  }
 },
 "nbformat": 4,
 "nbformat_minor": 4
}
